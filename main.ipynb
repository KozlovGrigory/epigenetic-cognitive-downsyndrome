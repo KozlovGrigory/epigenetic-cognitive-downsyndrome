{
 "cells": [
  {
   "cell_type": "code",
   "execution_count": null,
   "id": "8311c952",
   "metadata": {
    "scrolled": true
   },
   "outputs": [],
   "source": [
    "import data_preproc as dp\n",
    "import correlation_cognitive_methylation as ccm\n",
    "import division_into_classes as dic\n",
    "import ML_classification as MLC\n",
    "import ML_regression as MLR\n",
    "\n",
    "files = {'cpg_values': '',\n",
    "         'cpg_names': '', \n",
    "         'data_samples': '',\n",
    "         'cognitive_frame': '',\n",
    "         'cpgs_annotations': ''} \n",
    "directory_research = ''\n",
    "cognitive_indicator = ''\n",
    "alpha = 0.001\n",
    "\n",
    "methylation_frame, cognitive_frame, indicator_folder = dp.data_preproc(files, directory_research, cognitive_indicator)\n",
    "correlation_frame = ccm.correlation_cognitive_methylation(alpha, files, indicator_folder, cognitive_indicator, \n",
    "                                                      methylation_frame, cognitive_frame)\n",
    "\n",
    "classes_all_members, classes_unique_members = dic.division_into_classes (cognitive_indicator, cognitive_frame)\n",
    "print('Division into classes \\nall values:', *classes_all_members, '\\nunique values:', *classes_unique_members)\n",
    "division_method = int(input('\\nChoose how to divide into classes:\\n1. all values\\n2. unique values\\n3. manual division\\n'))\n",
    "if division_method == 3:\n",
    "    print(sorted(list(cognitive_frame[cognitive_indicator])))\n",
    "    lim1, lim2 = [int(i) for i in input('Enter boundary values: ').split(' ')]\n",
    "    indicator_classes = dic.division_into_classes(cognitive_indicator, cognitive_frame, division_method, lim1, lim2)\n",
    "else:\n",
    "    indicator_classes = dic.division_into_classes(cognitive_indicator, cognitive_frame, division_method)\n",
    "    \n",
    "MLC.ML_classification(correlation_frame, methylation_frame, indicator_classes, cognitive_indicator, indicator_folder)\n",
    "MLR.ML_regression(correlation_frame, methylation_frame, indicator_classes, cognitive_indicator, indicator_folder)"
   ]
  }
 ],
 "metadata": {
  "kernelspec": {
   "display_name": "Python 3 (ipykernel)",
   "language": "python",
   "name": "python3"
  },
  "language_info": {
   "codemirror_mode": {
    "name": "ipython",
    "version": 3
   },
   "file_extension": ".py",
   "mimetype": "text/x-python",
   "name": "python",
   "nbconvert_exporter": "python",
   "pygments_lexer": "ipython3",
   "version": "3.9.12"
  }
 },
 "nbformat": 4,
 "nbformat_minor": 5
}
