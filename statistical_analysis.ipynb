{
 "cells": [
  {
   "cell_type": "code",
   "execution_count": 1,
   "id": "8311c952",
   "metadata": {
    "scrolled": true
   },
   "outputs": [
    {
     "name": "stderr",
     "output_type": "stream",
     "text": [
      "100%|█████████████████████████████████████████████████████| 422802/422802 [06:50<00:00, 1029.60it/s]\n"
     ]
    }
   ],
   "source": [
    "import data_preproc as dp\n",
    "import correlation_cognitive_methylation as ccm\n",
    "\n",
    "files = {'cpg_values': 'D:/unn/GSE52588/GSE52588_beta_fn.npz',\n",
    "         'cpg_names': 'D:/unn/GSE52588/GSE52588_beta_fn.npz', \n",
    "         'data_samples': 'D:/unn/GSE52588/GSE52588_samples.txt',\n",
    "         'cognitive_frame': 'D:/unn/GSE52588/DOWN_FENOTIPO_No4,8,12_PerCorrelazioni.tsv',\n",
    "         'cpgs_annotations': 'D:/unn/GSE52588/cpgs_annotations.txt'} \n",
    "directory_research = 'D:/unn/down_syndrome_epigenetic'\n",
    "cognitive_indicator = 'corsi'\n",
    "alpha = 0.001\n",
    "\n",
    "methylation_frame, cognitive_frame, indicator_folder = dp.data_preproc(files, directory_research, cognitive_indicator)\n",
    "correlation_frame = ccm.correlation_cognitive_methylation(alpha, files, indicator_folder, cognitive_indicator, \n",
    "                                                      methylation_frame, cognitive_frame)"
   ]
  },
  {
   "cell_type": "code",
   "execution_count": null,
   "id": "2399745d",
   "metadata": {},
   "outputs": [],
   "source": []
  }
 ],
 "metadata": {
  "kernelspec": {
   "display_name": "Python 3 (ipykernel)",
   "language": "python",
   "name": "python3"
  },
  "language_info": {
   "codemirror_mode": {
    "name": "ipython",
    "version": 3
   },
   "file_extension": ".py",
   "mimetype": "text/x-python",
   "name": "python",
   "nbconvert_exporter": "python",
   "pygments_lexer": "ipython3",
   "version": "3.9.12"
  }
 },
 "nbformat": 4,
 "nbformat_minor": 5
}
